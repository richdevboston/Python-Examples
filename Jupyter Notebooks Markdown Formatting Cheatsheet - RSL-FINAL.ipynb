{
 "cells": [
  {
   "cell_type": "markdown",
   "metadata": {},
   "source": [
    "# Markdown for Jupyter Notebooks - Cheatsheet\n",
    "\n",
    "Authored: Rich Lysakowski\n",
    "    Date: June 19, 2019\n",
    "    \n",
    "Adapted from The Following URLs:  \n",
    "\n",
    ">https://www.ibm.com/support/knowledgecenter/en/SSGNPV_1.1.3/dsx/markd-jupyter.html\n",
    ">https://guides.github.com/features/mastering-markdown/\n",
    "\n",
    "You use Markdown to create and format beautiful documentation and navigation to your Jupyter notebook."
   ]
  },
  {
   "cell_type": "markdown",
   "metadata": {},
   "source": [
    "Here's how to format Markdown cells in Jupyter notebooks:"
   ]
  },
  {
   "cell_type": "markdown",
   "metadata": {
    "ExecuteTime": {
     "end_time": "2019-06-14T23:21:09.626594Z",
     "start_time": "2019-06-14T23:21:09.623086Z"
    }
   },
   "source": [
    "# Coloring Text Boxes"
   ]
  },
  {
   "cell_type": "markdown",
   "metadata": {},
   "source": [
    "Jupyter cells can be colored based on a set of styles for information messages to the user:\n",
    "    - blue is \"alert-info\" \n",
    "    - yellow is \"alert-warning\"\n",
    "    - green is \"alert-success\"\n",
    "    - red is \"alert-danger\""
   ]
  },
  {
   "cell_type": "markdown",
   "metadata": {
    "ExecuteTime": {
     "end_time": "2019-06-14T22:21:27.913370Z",
     "start_time": "2019-06-14T22:21:27.907351Z"
    }
   },
   "source": [
    "<div class=\"alert alert-block alert-info\">\n",
    "<b>Tip:</b> Use blue boxes (alert-info) for tips and notes. \n",
    "If it’s a note, you don’t have to include the word “Note”.\n",
    "</div>"
   ]
  },
  {
   "cell_type": "markdown",
   "metadata": {},
   "source": [
    "<div class=\"alert alert-block alert-warning\">\n",
    "<b>Example:</b> Use yellow boxes (alert-warning) for examples that are not \n",
    "inside code cells, or use for mathematical formulas if needed.\n",
    "</div>"
   ]
  },
  {
   "cell_type": "markdown",
   "metadata": {},
   "source": [
    "<div class=\"alert alert-block alert-success\">\n",
    "<b>Up to you:</b> Use green boxes (alert-success) sparingly, and only for some specific \n",
    "purpose that the other boxes can't cover. For example, if you have a lot \n",
    "of related content to link to, maybe you decide to use green boxes for \n",
    "related links from each section of a notebook.\n",
    "</div>"
   ]
  },
  {
   "cell_type": "markdown",
   "metadata": {},
   "source": [
    "<div class=\"alert alert-block alert-danger\">\n",
    "<b>Just don't:</b> In general, avoid the red boxes (alert-danger). These should only be\n",
    "used for actions that might cause data loss or another major issue.\n",
    "</div>"
   ]
  },
  {
   "cell_type": "markdown",
   "metadata": {
    "ExecuteTime": {
     "end_time": "2019-06-14T22:47:16.419254Z",
     "start_time": "2019-06-14T22:47:16.415240Z"
    }
   },
   "source": [
    "# Emphasis\n",
    "Use the following code to emphasize text:\n",
    "\n",
    "Bold text: __string__ or ```**string**```\n",
    "\n",
    "Italic text: _string_ or ```*string*```"
   ]
  },
  {
   "cell_type": "markdown",
   "metadata": {},
   "source": [
    "# Bullets\n",
    "To create a circular bullet point, use one of the following methods. Each bullet point must be on its own line.\n",
    "A hyphen (-) followed by one or two spaces, for example: \n",
    "- Bulleted item\n",
    "A space, a hyphen (-) and a space, for example: \n",
    "- Bulleted item\n",
    "An asterisk (*) followed by one or two spaces, for example: \n",
    "* Bulleted item\n",
    "\n",
    "To create a sub bullet, press Tab before entering the bullet point using one of the methods described above. For example:\n",
    "- Main bullet point\n",
    "     - Sub bullet pointCopy"
   ]
  },
  {
   "cell_type": "markdown",
   "metadata": {
    "ExecuteTime": {
     "end_time": "2019-06-14T22:55:38.615831Z",
     "start_time": "2019-06-14T22:55:38.610851Z"
    }
   },
   "source": [
    "# Numbered lists\n",
    "To create a numbered list, enter 1. followed by a space, for example:\n",
    "1. Numbered item One\n",
    "1. Numbered item Two\n",
    "1. Numbered item Three\n",
    "\n",
    "For simplicity, use `1.` before each entry. The list will be numbered correctly when you run the cell.\n",
    "\n",
    "To create a substep, press Tab before entering the numbered item, for example:\n",
    "1. Numbered item\n",
    "     1. Substep"
   ]
  },
  {
   "cell_type": "markdown",
   "metadata": {},
   "source": [
    "# Heading and Subheading Levels Formatting\n",
    "Use the number sign (#) followed by a blank space for notebook titles and section headings:\n",
    "- # For Titles (HL1)\n",
    "- ## For Major Headings (HL2)\n",
    "- ### For Subheadings (HL3)\n",
    "- #### For 4th Level Subheadings (HL4)\n",
    "- ##### For 5th Level Heading (HL5 small italics)\n",
    "- ###### For 6th Level Heading (HL5 small italics)\n",
    "- ####### For 6th Level Heading (HL5 small italics)"
   ]
  },
  {
   "cell_type": "markdown",
   "metadata": {},
   "source": [
    "# Mathematical symbols\n",
    "Surround mathematical symbols with a dollar sign ($), for example:\n",
    "\n",
    "**mathematical symbols pi = ${\\pi}$**"
   ]
  },
  {
   "cell_type": "markdown",
   "metadata": {
    "ExecuteTime": {
     "end_time": "2019-06-14T23:13:22.515216Z",
     "start_time": "2019-06-14T23:13:22.512207Z"
    }
   },
   "source": [
    "$e^{i\\pi} + 1 = 0$"
   ]
  },
  {
   "cell_type": "markdown",
   "metadata": {
    "ExecuteTime": {
     "end_time": "2019-06-14T23:12:49.355329Z",
     "start_time": "2019-06-14T23:12:49.351317Z"
    }
   },
   "source": [
    "\\begin{align}\n",
    "  a &= b \\\\\n",
    "  c &= d \\\\\n",
    "  e &= f\n",
    "\\end{align}"
   ]
  },
  {
   "cell_type": "markdown",
   "metadata": {
    "ExecuteTime": {
     "end_time": "2019-06-14T23:12:49.887610Z",
     "start_time": "2019-06-14T23:12:49.882625Z"
    }
   },
   "source": [
    "\\begin{equation}\n",
    "  e^x = \\sum_{j=0}^{\\infty} \\frac{1}{j!} x^j\n",
    "\\end{equation}"
   ]
  },
  {
   "cell_type": "markdown",
   "metadata": {},
   "source": [
    "# Miscellaneous UTF-8, Unicode, Geometric Symbols and Shapes\n",
    "\n",
    "There are thousands of symbols that you can insert with the correct Unicode constants.\n",
    "\n",
    "See the following references for details:\n",
    "\n",
    "- https://www.pythonsheets.com/notes/python-unicode.html\n",
    "- https://www.w3schools.com/charsets/ref_utf_geometric.asp\n",
    "- https://www.w3schools.com/charsets/ref_utf_symbols.asp\n",
    "- https://www.w3schools.com/charsets/ref_utf_dingbats.asp\n",
    "- https://www.w3schools.com/charsets/ref_emoji.asp\n",
    "- https://www.w3schools.com/charsets/ref_emoji_smileys.asp\n",
    "- https://www.w3schools.com/charsets/ref_emoji_skin_tones.asp\n"
   ]
  },
  {
   "cell_type": "markdown",
   "metadata": {
    "ExecuteTime": {
     "end_time": "2019-06-14T22:58:52.204254Z",
     "start_time": "2019-06-14T22:58:52.199303Z"
    }
   },
   "source": [
    "## HTML and Emojis\n",
    "<!DOCTYPE html>\n",
    "<html>\n",
    "<style> \n",
    "body {font-size: 20px;}\n",
    "</style>\n",
    "<body>\n",
    "    <p>Here's an example of Emojis output:</p>\n",
    "<p>    \n",
    "<span style='font-size:24px;'>I will display 24pt type: &#9742; &#9996;</span>\n",
    "<p>I will display &#9742; &#9996;</p>\n",
    "\n",
    "</body>\n",
    "</html>\n",
    "\n",
    "For everything you wanted to know about Emojis and were afraid to ask, see: \n",
    "\n",
    ">https://github.com/ikatyang/emoji-cheat-sheet\n"
   ]
  },
  {
   "cell_type": "markdown",
   "metadata": {},
   "source": [
    "## Unicode, Hex, and HTML5 Encoded Symbols \n",
    "\n",
    "<!DOCTYPE html>\n",
    "<html>\n",
    "<style>\n",
    "body {\n",
    "  font-size: 20px;\n",
    "}\n",
    "</style>\n",
    "<body>\n",
    "\n",
    "<span style='font-size:30px;'>&#8752;</span>\n",
    "<p>I will display unicode character: &#8752;</p>\n",
    "<p>I will display hex character: &#x2230;</p>\n",
    "<p>I will display HTML5 Entity Name: &Cconint;</p>\n",
    "\n",
    "</body>\n",
    "</html>"
   ]
  },
  {
   "cell_type": "markdown",
   "metadata": {},
   "source": [
    "## The ASCII Character Set"
   ]
  },
  {
   "cell_type": "code",
   "execution_count": 7,
   "metadata": {},
   "outputs": [
    {
     "name": "stdout",
     "output_type": "stream",
     "text": [
      " !\"#$%&'()*+,-./0123456789:;<=>?@ABCDEFGHIJKLMNOPQRSTUVWXYZ[\\]^_`abcdefghijklmnopqrstuvwxyz{|}~"
     ]
    }
   ],
   "source": [
    "for i in range(32, 129):\n",
    "    print(chr(i), end=\"\")"
   ]
  },
  {
   "cell_type": "markdown",
   "metadata": {},
   "source": [
    "## Symbols: Astrology, Chess, Poker, Music, Chemical Hazards "
   ]
  },
  {
   "cell_type": "code",
   "execution_count": 8,
   "metadata": {},
   "outputs": [
    {
     "name": "stdout",
     "output_type": "stream",
     "text": [
      "9766 ☦9767 ☧9768 ☨9769 ☩9770 ☪9771 ☫9772 ☬9773 ☭9774 ☮9775 ☯9776 ☰9777 ☱9778 ☲9779 ☳9780 ☴9781 ☵9782 ☶9783 ☷9784 ☸9785 ☹9786 ☺9787 ☻9788 ☼9789 ☽9790 ☾9791 ☿9792 ♀9793 ♁9794 ♂9795 ♃9796 ♄9797 ♅9798 ♆9799 ♇9800 ♈9801 ♉9802 ♊9803 ♋9804 ♌9805 ♍9806 ♎9807 ♏9808 ♐9809 ♑9810 ♒9811 ♓9812 ♔9813 ♕9814 ♖9815 ♗9816 ♘9817 ♙9818 ♚9819 ♛9820 ♜9821 ♝9822 ♞9823 ♟9824 ♠9825 ♡9826 ♢9827 ♣9828 ♤9829 ♥9830 ♦9831 ♧9832 ♨9833 ♩9834 ♪9835 ♫9836 ♬9837 ♭9838 ♮9839 ♯9840 ♰9841 ♱9842 ♲9843 ♳9844 ♴9845 ♵9846 ♶9847 ♷9848 ♸9849 ♹9850 ♺9851 ♻9852 ♼9853 ♽9854 ♾9855 ♿"
     ]
    }
   ],
   "source": [
    "for i in range(9766, 9856):\n",
    "    print(i, chr(i), end=\"\")"
   ]
  },
  {
   "cell_type": "markdown",
   "metadata": {},
   "source": [
    "## Astrological Symbols"
   ]
  },
  {
   "cell_type": "code",
   "execution_count": 11,
   "metadata": {},
   "outputs": [
    {
     "name": "stdout",
     "output_type": "stream",
     "text": [
      "9790 ☾9791 ☿9792 ♀9793 ♁9794 ♂9795 ♃9796 ♄9797 ♅9798 ♆9799 ♇9800 ♈9801 ♉9802 ♊9803 ♋9804 ♌9805 ♍9806 ♎9807 ♏9808 ♐9809 ♑9810 ♒9811 ♓"
     ]
    }
   ],
   "source": [
    "for i in range(9790, 9812):\n",
    "    print(i, chr(i), end=\"\")"
   ]
  },
  {
   "cell_type": "markdown",
   "metadata": {},
   "source": [
    "## More Emojis"
   ]
  },
  {
   "cell_type": "code",
   "execution_count": 9,
   "metadata": {},
   "outputs": [
    {
     "name": "stdout",
     "output_type": "stream",
     "text": [
      "😀😁😂😃😄😅😆😇😈😉😊😋😌😍😎😏😐😑😒😓😔😕😖😗😘😙😚😛😜😝😞😟😠😡😢😣😤😥😦😧😨😩😪😫😬😭😮😯😰😱😲😳😴😵😶😷😸😹😺😻😼😽😾😿🙀🙁🙂🙃🙄🙅🙆🙇🙈🙉🙊🙋🙌🙍🙎🙏🙐🙑🙒🙓🙔🙕🙖🙗🙘🙙🙚🙛🙜🙝🙞🙟🙠🙡🙢🙣🙤🙥🙦🙧🙨🙩🙪🙫🙬🙭🙮🙯🙰🙱🙲🙳🙴🙵🙶🙷🙸🙹🙺🙻🙼🙽🙾🙿🚀🚁🚂🚃🚄🚅🚆🚇🚈🚉🚊🚋🚌🚍🚎🚏🚐🚑🚒🚓🚔🚕🚖🚗🚘🚙🚚🚛🚜🚝🚞🚟🚠🚡🚢🚣🚤🚥🚦🚧🚨🚩🚪🚫🚬🚭🚮🚯🚰🚱🚲🚳🚴🚵🚶🚷🚸🚹🚺🚻🚼🚽🚾🚿🛀🛁🛂🛃🛄🛅🛆🛇🛈🛉🛊🛋🛌🛍🛎🛏🛐🛑🛒"
     ]
    }
   ],
   "source": [
    "for i in range(128512, 128723):\n",
    "    print(chr(i), end=\"\")"
   ]
  },
  {
   "cell_type": "markdown",
   "metadata": {},
   "source": [
    "# Monospace font\n",
    "Surround text with a grave accent (`) also called a back single quotation mark, for example:\n",
    "\n",
    ">`string`\n",
    "\n",
    "You can use the monospace font for file paths, file names, message text that users see, or text that users enter."
   ]
  },
  {
   "cell_type": "markdown",
   "metadata": {},
   "source": [
    "# Line breaks\n",
    "Sometimes markdown doesn’t make line breaks when you want them. To force a linebreak, use the following code: `<br>` <br>\n"
   ]
  },
  {
   "cell_type": "markdown",
   "metadata": {},
   "source": [
    "# Indenting\n",
    "Use the greater than sign (>) followed by a space, for example:\n",
    "\n",
    "> Text that will be indented when the Markdown is rendered.\n",
    "\n",
    "Any subsequent text is indented until the next carriage return."
   ]
  },
  {
   "cell_type": "markdown",
   "metadata": {},
   "source": [
    "# Horizontal Lines\n",
    "\n",
    "On a new line, enter three asterisks:\n",
    "***\n",
    "There is a thin line about this text."
   ]
  },
  {
   "cell_type": "markdown",
   "metadata": {},
   "source": [
    "# Internal links\n",
    "To link to a section within your notebook, use the following code:\n",
    "\n",
    "[Section title](#section-title)\n",
    "\n",
    "For the text inside the parentheses, replace any spaces and special characters with a hyphen. \n",
    "\n",
    "For example, if your section is called Analyzing customer purchasing habits, you'd enter:\n",
    "\n",
    "[Analyzing customer purchasing habits](#analyzing-customer-purchasing-habits)\n",
    "\n",
    "Alternatively, you can add an ID above the section:\n",
    "    <a id=\"section_ID\"></a>"
   ]
  },
  {
   "cell_type": "markdown",
   "metadata": {},
   "source": [
    "<div class=\"alert alert-block alert-warning\">\n",
    "<b>Important:</b> Test all internal links to ensure that they work.\n",
    "</div>"
   ]
  },
  {
   "cell_type": "markdown",
   "metadata": {},
   "source": [
    "# Important\n",
    "Each ID in the notebook must be unique.\n",
    "\n",
    "To link to a section that has an ID, use the following code:\n",
    "\n",
    "    [Section title](#section_ID)"
   ]
  },
  {
   "cell_type": "markdown",
   "metadata": {},
   "source": [
    "<div class=\"alert alert-block alert-warning\">\n",
    "<b>Important:</b> Test all internal links to ensure that they work.\n",
    "</div>"
   ]
  },
  {
   "cell_type": "markdown",
   "metadata": {},
   "source": [
    "# External links\n",
    "To link to an external site, surround the link with two underscores (_) on each side:\n",
    "\n",
    "For example, a link that will jump to Wikipedia is coded as follows: `__[Wikipedia.com](http://www.wikipedia.org)__`\n",
    "    \n",
    " __[Wikipedia.com](http://www.wikipedia.org)__\n",
    "\n"
   ]
  },
  {
   "cell_type": "markdown",
   "metadata": {
    "ExecuteTime": {
     "start_time": "2019-06-17T03:50:07.997Z"
    }
   },
   "source": [
    "# GitHub Flavored Markdown\n",
    "GitHub.com uses its own version of the Markdown syntax that provides an additional set of useful features, many of which make it easier to work with content on GitHub.com.\n",
    "\n",
    "Note that some features of GitHub Flavored Markdown are only available in the descriptions and comments of Issues and Pull Requests. These include @mentions as well as references to SHA-1 hashes, Issues, and Pull Requests. Task Lists are also available in Gist comments and in Gist Markdown files.\n",
    "\n",
    "See the following link for more details about GitHub-Specific Markdown:\n",
    ">https://guides.github.com/features/mastering-markdown/#GitHub-flavored-markdown"
   ]
  },
  {
   "cell_type": "code",
   "execution_count": null,
   "metadata": {},
   "outputs": [],
   "source": []
  }
 ],
 "metadata": {
  "hide_input": false,
  "kernelspec": {
   "display_name": "Python 3",
   "language": "python",
   "name": "python3"
  },
  "language_info": {
   "codemirror_mode": {
    "name": "ipython",
    "version": 3
   },
   "file_extension": ".py",
   "mimetype": "text/x-python",
   "name": "python",
   "nbconvert_exporter": "python",
   "pygments_lexer": "ipython3",
   "version": "3.7.1"
  },
  "toc": {
   "base_numbering": 1,
   "nav_menu": {},
   "number_sections": true,
   "sideBar": true,
   "skip_h1_title": false,
   "title_cell": "Table of Contents",
   "title_sidebar": "Contents",
   "toc_cell": false,
   "toc_position": {
    "height": "calc(100% - 180px)",
    "left": "10px",
    "top": "150px",
    "width": "165px"
   },
   "toc_section_display": true,
   "toc_window_display": true
  },
  "varInspector": {
   "cols": {
    "lenName": 16,
    "lenType": 16,
    "lenVar": 40
   },
   "kernels_config": {
    "python": {
     "delete_cmd_postfix": "",
     "delete_cmd_prefix": "del ",
     "library": "var_list.py",
     "varRefreshCmd": "print(var_dic_list())"
    },
    "r": {
     "delete_cmd_postfix": ") ",
     "delete_cmd_prefix": "rm(",
     "library": "var_list.r",
     "varRefreshCmd": "cat(var_dic_list()) "
    }
   },
   "types_to_exclude": [
    "module",
    "function",
    "builtin_function_or_method",
    "instance",
    "_Feature"
   ],
   "window_display": false
  }
 },
 "nbformat": 4,
 "nbformat_minor": 2
}
